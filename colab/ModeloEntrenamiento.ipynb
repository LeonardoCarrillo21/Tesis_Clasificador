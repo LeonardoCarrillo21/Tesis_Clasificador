{
  "nbformat": 4,
  "nbformat_minor": 0,
  "metadata": {
    "colab": {
      "provenance": []
    },
    "kernelspec": {
      "name": "python3",
      "display_name": "Python 3"
    },
    "language_info": {
      "name": "python"
    }
  },
  "cells": [
    {
      "cell_type": "code",
      "execution_count": null,
      "metadata": {
        "id": "4kBCk6D7gGvh"
      },
      "outputs": [],
      "source": [
        "from tensorflow import keras\n",
        "from tensorflow.keras import layers\n",
        "import csv\n",
        "import numpy as np\n",
        "from sklearn.preprocessing import LabelEncoder\n",
        "import statistics as stts"
      ]
    },
    {
      "cell_type": "code",
      "source": [
        "puntos = 50\n",
        "nombreArchivo = \"baseDetectores.csv\"\n",
        "nombreTest = \"Test.csv\"\n",
        "lector = csv.reader(open(nombreArchivo,'r'))\n",
        "lectorTest = csv.reader(open(nombreTest,'r'))\n",
        "base = np.array([np.array([int(dato) for dato in fila[:-1]]).reshape(puntos,32) for fila in lector])\n",
        "Test = np.array([np.array([int(dato) for dato in fila[:-1]]).reshape(puntos,32) for fila in lectorTest])\n"
      ],
      "metadata": {
        "id": "o3CPw_FLsyY0"
      },
      "execution_count": null,
      "outputs": []
    },
    {
      "cell_type": "code",
      "source": [
        "def getMatriz(arreglo,arreglo2):\n",
        "  elementos = len(arreglo)  # Paso 1\n",
        "  elementos2 = len(arreglo2)  # Paso 1\n",
        "\n",
        "  etiquetas = list(set(arreglo))  # Obtener etiquetas únicas sin repetir\n",
        "\n",
        "  L = len(etiquetas)  # Tamaño de las etiquetas únicas\n",
        "\n",
        "  C = len(etiquetas)  # Tamaño de las columnas de la matriz\n",
        "  matriz = [[[0] * C] * 50 for _ in range(elementos)]  # Inicializar matriz con ceros\n",
        "  matriz2 = [[[0] * C] * 50 for _ in range(elementos2)]  # Inicializar matriz con ceros\n",
        "\n",
        "  for i, elemento in enumerate(arreglo):\n",
        "    indice = etiquetas.index(elemento)  # Obtener índice de la etiqueta\n",
        "    matriz[i][:][indice] = 1  # Asignar 1 en la posición correspondiente\n",
        "  for i, elemento in enumerate(arreglo2):\n",
        "    indice = etiquetas.index(elemento)  # Obtener índice de la etiqueta\n",
        "    matriz2[i][:][indice] = 1  # Asignar 1 en la posición correspondiente\n",
        "  return np.array(matriz),np.array(matriz2)"
      ],
      "metadata": {
        "id": "7uLYdg1QcHEp"
      },
      "execution_count": null,
      "outputs": []
    },
    {
      "cell_type": "code",
      "source": [
        "lector = csv.reader(open(nombreArchivo,'r'))\n",
        "lectorTest = csv.reader(open(nombreTest,'r'))\n",
        "label_encoder = LabelEncoder()\n",
        "\n",
        "etiquetas = [renglon[-1] for renglon in lector]\n",
        "etiquetasTest = [renglon[-1] for renglon in lectorTest]\n",
        "print(f'Etiquetas: \\n {etiquetas}')\n",
        "print(f'EtiquetasTest: \\n {etiquetasTest}')\n"
      ],
      "metadata": {
        "colab": {
          "base_uri": "https://localhost:8080/"
        },
        "id": "bLhVqQ2Z4wGL",
        "outputId": "8487fbab-7b3d-4f27-fbbb-7eaa7ad61a7a"
      },
      "execution_count": null,
      "outputs": [
        {
          "output_type": "stream",
          "name": "stdout",
          "text": [
            "Etiquetas: \n",
            " ['botella', 'botella', 'botella', 'botella', 'botella', 'botella', 'botella', 'botella', 'botella', 'botella', 'botella', 'botella', 'botella', 'botella', 'botella', 'botella', 'botella', 'botella', 'botella', 'botella', 'botella', 'botella', 'botella', 'botella', 'botella', 'botella', 'botella', 'botella', 'botella', 'botella', 'botella', 'botella', 'botella', 'botella', 'botella', 'botella', 'botella', 'botella', 'botella', 'botella', 'botella', 'botella', 'botella', 'botella', 'botella', 'botella', 'botella', 'botella', 'botella', 'botella', 'botella', 'botella', 'botella', 'botella', 'botella', 'botella', 'botella', 'botella', 'botella', 'botella', 'botella', 'botella', 'botella', 'botella', 'botella', 'botella', 'botella', 'botella', 'botella', 'botella', 'botella', 'botella', 'botella', 'botella', 'botella', 'botella', 'botella', 'botella', 'botella', 'botella', 'botella', 'botella', 'botella', 'botella', 'botella', 'botella', 'botella', 'botella', 'botella', 'botella', 'botella', 'botella', 'botella', 'botella', 'botella', 'botella', 'botella', 'botella', 'botella', 'botella', 'botella', 'botella', 'botella', 'botella', 'botella', 'botella', 'botella', 'botella', 'botella', 'botella', 'botella', 'botella', 'botella', 'botella', 'botella', 'botella', 'botella', 'botella', 'botella', 'botella', 'botella', 'botella', 'botella', 'botella', 'botella', 'botella', 'botella', 'botella', 'botella', 'botella', 'botella', 'botella', 'botella', 'botella', 'botella', 'botella', 'botella', 'botella', 'botella', 'botella', 'botella', 'botella', 'botella', 'botella', 'botella', 'botella', 'botella', 'botella', 'botella', 'botella', 'botella', 'botella', 'botella', 'botella', 'botella', 'botella', 'botella', 'botella', 'botella', 'botella', 'botella', 'botella', 'botella', 'botella', 'botella', 'botella', 'botella', 'botella', 'botella', 'botella', 'botella', 'botella', 'botella', 'botella', 'botella', 'botella', 'botella', 'botella', 'botella', 'botella', 'botella', 'botella', 'botella', 'botella', 'botella', 'botella', 'botella', 'botella', 'botella', 'botella', 'botella', 'botella', 'botella', 'botella', 'botella', 'botella', 'botella', 'botella', 'botella', 'botella', 'botella', 'botella', 'botella', 'botella', 'botella', 'botella', 'botella', 'botella', 'botella', 'botella', 'botella', 'botella', 'botella', 'botella', 'botella', 'botella', 'botella', 'botella', 'botella', 'botella', 'botella', 'botella', 'botella', 'botella', 'botella', 'botella', 'botella', 'botella', 'botella', 'botella', 'botella', 'botella', 'botella', 'botella', 'botella', 'botella', 'botella', 'botella', 'botella', 'botella', 'botella', 'botella', 'botella', 'botella', 'botella', 'botella', 'botella', 'botella', 'botella', 'botella', 'botella', 'botella', 'botella', 'botella', 'botella', 'botella', 'botella', 'botella', 'botella', 'botella', 'botella', 'botella', 'botella', 'botella', 'botella', 'botella', 'botella', 'botella', 'botella', 'botella', 'botella', 'botella', 'botella', 'botella', 'botella', 'botella', 'botella', 'botella', 'botella', 'botella', 'botella', 'botella', 'botella', 'botella', 'botella', 'botella', 'botella', 'botella', 'botella', 'botella', 'botella', 'botella', 'botella', 'botella', 'botella', 'botella', 'botella', 'botella', 'botella', 'botella', 'botella', 'botella', 'botella', 'botella', 'botella', 'botella', 'botella', 'botella', 'botella', 'botella', 'botella', 'botella', 'botella', 'botella', 'botella', 'botella', 'botella', 'botella', 'botella', 'botella', 'botella', 'botella', 'botella', 'botella', 'botella', 'botella', 'botella', 'botella', 'botella', 'botella', 'botella', 'botella', 'botella', 'botella', 'botella', 'botella', 'botella', 'botella', 'botella', 'botella', 'botella', 'botella', 'botella', 'botella', 'botella', 'botella', 'botella', 'botella', 'botella', 'botella', 'botella', 'botella', 'botella', 'botella', 'botella', 'botella', 'botella', 'botella', 'botella', 'botella', 'botella', 'botella', 'botella', 'botella', 'botella', 'botella', 'botella', 'botella', 'botella', 'botella', 'botella', 'botella', 'botella', 'botella', 'botella', 'botella', 'botella', 'botella', 'botella', 'botella', 'botella', 'botella', 'botella', 'botella', 'botella', 'botella', 'botella', 'botella', 'botella', 'botella', 'botella', 'botella', 'botella', 'botella', 'botella', 'botella', 'botella', 'botella', 'botella', 'botella', 'botella', 'botella', 'botella', 'botella', 'botella', 'botella', 'botella', 'botella', 'botella', 'botella', 'botella', 'botella', 'botella', 'botella', 'botella', 'botella', 'botella', 'botella', 'botella', 'botella', 'botella', 'botella', 'botella', 'botella', 'botella', 'botella', 'botella', 'botella', 'botella', 'botella', 'botella', 'botella', 'zanahoria', 'zanahoria', 'zanahoria', 'zanahoria', 'zanahoria', 'zanahoria']\n",
            "EtiquetasTest: \n",
            " ['botella', 'botella', 'botella', 'botella', 'botella', 'botella', 'botella', 'botella', 'botella', 'botella']\n"
          ]
        }
      ]
    },
    {
      "cell_type": "code",
      "source": [
        "matrizEtiquetas,matrizEtiquetasTest = getMatriz(etiquetas,etiquetasTest)"
      ],
      "metadata": {
        "id": "aQG9yq0EcYKJ"
      },
      "execution_count": null,
      "outputs": []
    },
    {
      "cell_type": "code",
      "source": [
        "print(f'nueva Matriz: \\n {matrizEtiquetas}')\n",
        "print(f'nueva MatrizTest: \\n {matrizEtiquetasTest}')"
      ],
      "metadata": {
        "id": "QOo_cWaKfQRp"
      },
      "execution_count": null,
      "outputs": []
    },
    {
      "cell_type": "code",
      "source": [
        "def elegido(numero):\n",
        "  if numero == 0:\n",
        "    return \"botella\""
      ],
      "metadata": {
        "id": "NqpnzcGG7UNP"
      },
      "execution_count": null,
      "outputs": []
    },
    {
      "cell_type": "code",
      "source": [
        "print(base.shape)"
      ],
      "metadata": {
        "colab": {
          "base_uri": "https://localhost:8080/"
        },
        "id": "6maPzUj53BPb",
        "outputId": "50458858-894c-4763-f260-2724ff589a5b"
      },
      "execution_count": null,
      "outputs": [
        {
          "output_type": "stream",
          "name": "stdout",
          "text": [
            "(438, 50, 32)\n"
          ]
        }
      ]
    },
    {
      "cell_type": "code",
      "source": [
        "\n",
        "# Definir la forma de entrada\n",
        "shape = base.shape[1:] #(50,32)\n",
        "print(shape)\n",
        "input_shape = shape\n"
      ],
      "metadata": {
        "id": "fzRafCWz4Q1w",
        "colab": {
          "base_uri": "https://localhost:8080/"
        },
        "outputId": "4972c07e-c9ef-4b22-b8ec-ead73390dbef"
      },
      "execution_count": null,
      "outputs": [
        {
          "output_type": "stream",
          "name": "stdout",
          "text": [
            "(50, 32)\n"
          ]
        }
      ]
    },
    {
      "cell_type": "code",
      "source": [
        "\n",
        "# Crear un modelo secuencial\n",
        "model = keras.Sequential()"
      ],
      "metadata": {
        "id": "JNN_eooL4T9C"
      },
      "execution_count": null,
      "outputs": []
    },
    {
      "cell_type": "code",
      "source": [
        "\n",
        "# Agregar una capa de entrada\n",
        "model.add(layers.InputLayer(input_shape=input_shape))"
      ],
      "metadata": {
        "id": "TZchArnv4V30"
      },
      "execution_count": null,
      "outputs": []
    },
    {
      "cell_type": "code",
      "source": [
        "# Agregar capas ocultas\n",
        "model.add(layers.Dense(units=64, activation='relu'))\n",
        "model.add(layers.Dense(units=128, activation='relu'))\n",
        "# Agregar más capas según sea necesario"
      ],
      "metadata": {
        "id": "ooIwi1e_4aA3"
      },
      "execution_count": null,
      "outputs": []
    },
    {
      "cell_type": "code",
      "source": [
        "\n",
        "# Agregar una capa de salida\n",
        "model.add(layers.Dense(units=2, activation='sigmoid'))"
      ],
      "metadata": {
        "id": "1eVk7G5J4cRH"
      },
      "execution_count": null,
      "outputs": []
    },
    {
      "cell_type": "code",
      "source": [
        "\n",
        "# Compilar el modelo\n",
        "model.compile(optimizer='adam', loss='binary_crossentropy', metrics=['accuracy'])\n"
      ],
      "metadata": {
        "id": "yR_k_cl04fha"
      },
      "execution_count": null,
      "outputs": []
    },
    {
      "cell_type": "code",
      "source": [
        "\n",
        "# Resumen del modelo\n",
        "model.summary()"
      ],
      "metadata": {
        "id": "Zxp7D0NW4h3_",
        "colab": {
          "base_uri": "https://localhost:8080/"
        },
        "outputId": "ea92ec53-7f09-4d04-bf6c-cd82ca26bc92"
      },
      "execution_count": null,
      "outputs": [
        {
          "output_type": "stream",
          "name": "stdout",
          "text": [
            "Model: \"sequential_12\"\n",
            "_________________________________________________________________\n",
            " Layer (type)                Output Shape              Param #   \n",
            "=================================================================\n",
            " dense_29 (Dense)            (None, 50, 64)            2112      \n",
            "                                                                 \n",
            " dense_30 (Dense)            (None, 50, 128)           8320      \n",
            "                                                                 \n",
            " dense_31 (Dense)            (None, 50, 2)             258       \n",
            "                                                                 \n",
            "=================================================================\n",
            "Total params: 10,690\n",
            "Trainable params: 10,690\n",
            "Non-trainable params: 0\n",
            "_________________________________________________________________\n"
          ]
        }
      ]
    },
    {
      "cell_type": "code",
      "source": [
        "\n",
        "# Entrenar el modelo\n",
        "model.fit(base, matrizEtiquetas, epochs=10, batch_size=32)\n",
        "# model.fit(x_train, y_train, epochs=10, batch_size=32)\n",
        "\n",
        "# Evaluar el rendimiento del modelo\n",
        "model.evaluate(Test,matrizEtiquetasTest)\n"
      ],
      "metadata": {
        "id": "o-uRuSxAswHi",
        "colab": {
          "base_uri": "https://localhost:8080/"
        },
        "outputId": "e8a59feb-77eb-42f8-82ed-143c11fd23d9"
      },
      "execution_count": null,
      "outputs": [
        {
          "output_type": "stream",
          "name": "stdout",
          "text": [
            "Epoch 1/10\n",
            "14/14 [==============================] - 2s 12ms/step - loss: 12.2332 - accuracy: 0.7804\n",
            "Epoch 2/10\n",
            "14/14 [==============================] - 0s 11ms/step - loss: 1.1222e-27 - accuracy: 0.0787\n",
            "Epoch 3/10\n",
            "14/14 [==============================] - 0s 11ms/step - loss: 1.2565e-33 - accuracy: 0.0097\n",
            "Epoch 4/10\n",
            "14/14 [==============================] - 0s 11ms/step - loss: 4.3412e-35 - accuracy: 0.0047\n",
            "Epoch 5/10\n",
            "14/14 [==============================] - 0s 12ms/step - loss: 1.5328e-35 - accuracy: 0.0042\n",
            "Epoch 6/10\n",
            "14/14 [==============================] - 0s 10ms/step - loss: 1.1259e-35 - accuracy: 0.0041\n",
            "Epoch 7/10\n",
            "14/14 [==============================] - 0s 12ms/step - loss: 1.0475e-35 - accuracy: 0.0041\n",
            "Epoch 8/10\n",
            "14/14 [==============================] - 0s 11ms/step - loss: 1.0420e-35 - accuracy: 0.0041\n",
            "Epoch 9/10\n",
            "14/14 [==============================] - 0s 13ms/step - loss: 1.0384e-35 - accuracy: 0.0041\n",
            "Epoch 10/10\n",
            "14/14 [==============================] - 0s 11ms/step - loss: 1.0370e-35 - accuracy: 0.0041\n",
            "1/1 [==============================] - 0s 221ms/step - loss: 0.0000e+00 - accuracy: 0.0040\n"
          ]
        },
        {
          "output_type": "execute_result",
          "data": {
            "text/plain": [
              "[0.0, 0.004000000189989805]"
            ]
          },
          "metadata": {},
          "execution_count": 251
        }
      ]
    },
    {
      "cell_type": "code",
      "source": [
        "linea2 = np.array([[223, 141, 38, 183, 31, 150, 158, 160, 148, 224, 139, 131, 237, 124, 58, 227, 246, 245, 185, 231, 253, 201, 61, 191, 185, 99, 143, 151, 39, 38, 57, 84, 107, 134, 96, 208, 124, 147, 232, 123, 95, 185, 156, 110, 136, 104, 214, 164, 95, 136, 150, 169, 182, 110, 79, 223, 30, 31, 243, 236, 151, 172, 88, 133, 150, 159, 250, 187, 226, 176, 190, 217, 191, 31, 87, 247, 77, 238, 238, 79, 119, 91, 183, 151, 182, 212, 174, 227, 94, 115, 238, 207, 167, 229, 173, 213, 121, 82, 15, 37, 32, 70, 65, 48, 100, 204, 247, 228, 243, 87, 131, 243, 84, 164, 108, 232, 137, 208, 103, 12, 196, 227, 226, 128, 42, 162, 118, 113, 232, 141, 114, 253, 164, 140, 220, 55, 221, 2, 86, 18, 163, 41, 52, 65, 194, 54, 63, 74, 248, 188, 81, 175, 102, 251, 208, 80, 86, 136, 216, 8, 82, 34, 19, 200, 121, 93, 50, 64, 173, 44, 234, 2, 140, 150, 36, 116, 232, 149, 106, 128, 4, 19, 177, 192, 183, 52, 138, 19, 2, 10, 37, 134, 223, 118, 64, 179, 14, 50, 234, 250, 17, 226, 157, 247, 77, 15, 219, 143, 63, 197, 221, 191, 237, 87, 157, 206, 150, 71, 251, 245, 47, 245, 59, 148, 79, 50, 44, 146, 235, 119, 57, 51, 161, 254, 159, 188, 76, 119, 195, 63, 143, 53, 253, 151, 149, 67, 251, 192, 79, 91, 221, 255, 134, 231, 38, 247, 86, 62, 150, 182, 139, 47, 180, 142, 175, 191, 170, 109, 198, 232, 77, 10, 161, 119, 233, 19, 20, 225, 139, 96, 153, 150, 95, 95, 192, 115, 135, 3, 43, 34, 97, 201, 76, 29, 232, 80, 101, 100, 246, 202, 153, 13, 148, 228, 108, 140, 127, 141, 137, 178, 245, 192, 23, 120, 130, 136, 119, 140, 118, 228, 52, 217, 205, 35, 153, 82, 71, 184, 86, 244, 166, 167, 67, 102, 75, 239, 121, 198, 232, 242, 93, 209, 125, 40, 185, 195, 199, 71, 171, 255, 108, 116, 175, 55, 229, 129, 228, 59, 172, 59, 91, 234, 19, 255, 216, 236, 215, 175, 159, 109, 183, 63, 181, 244, 237, 194, 46, 90, 239, 246, 207, 252, 217, 213, 146, 230, 102, 197, 50, 2, 173, 55, 44, 183, 146, 246, 141, 131, 150, 71, 38, 29, 109, 173, 208, 221, 133, 194, 172, 160, 190, 132, 13, 128, 165, 137, 17, 5, 107, 207, 86, 226, 239, 117, 84, 69, 95, 2, 113, 119, 184, 100, 122, 186, 23, 168, 193, 184, 37, 207, 101, 175, 162, 128, 55, 202, 245, 232, 76, 139, 156, 69, 40, 58, 144, 25, 170, 189, 159, 232, 206, 35, 193, 66, 134, 101, 108, 8, 24, 65, 203, 65, 200, 177, 107, 191, 196, 226, 13, 1, 108, 25, 216, 229, 240, 13, 67, 18, 0, 233, 110, 8, 51, 51, 193, 80, 76, 190, 23, 92, 25, 186, 208, 40, 237, 141, 32, 40, 248, 169, 66, 178, 156, 70, 206, 149, 146, 10, 173, 191, 160, 182, 182, 231, 73, 35, 147, 91, 47, 196, 236, 188, 172, 221, 5, 76, 106, 35, 119, 149, 173, 244, 169, 216, 64, 50, 59, 233, 104, 13, 168, 87, 44, 41, 242, 118, 156, 135, 128, 240, 236, 159, 239, 129, 145, 155, 209, 192, 149, 48, 186, 200, 8, 136, 167, 185, 115, 48, 74, 201, 75, 93, 104, 80, 37, 96, 246, 138, 145, 151, 150, 116, 104, 156, 126, 136, 13, 147, 245, 192, 215, 41, 130, 137, 43, 136, 106, 182, 97, 128, 225, 76, 108, 64, 64, 174, 67, 9, 120, 40, 112, 121, 220, 114, 89, 78, 53, 8, 14, 42, 235, 147, 111, 126, 244, 236, 182, 178, 114, 43, 35, 151, 224, 95, 245, 148, 252, 23, 91, 205, 125, 39, 40, 108, 182, 100, 253, 170, 151, 157, 151, 186, 116, 207, 46, 62, 158, 195, 223, 206, 216, 223, 247, 118, 185, 162, 60, 125, 89, 28, 219, 239, 151, 255, 223, 28, 207, 42, 223, 149, 252, 49, 173, 103, 249, 194, 219, 215, 191, 191, 132, 126, 85, 119, 52, 22, 222, 187, 166, 163, 181, 105, 140, 135, 249, 167, 64, 235, 46, 72, 251, 169, 7, 161, 16, 179, 10, 92, 80, 134, 239, 129, 181, 106, 101, 211, 239, 113, 251, 192, 237, 93, 159, 216, 139, 249, 189, 124, 158, 222, 223, 62, 134, 113, 253, 91, 129, 99, 186, 192, 243, 89, 109, 191, 206, 247, 143, 117, 57, 212, 125, 109, 20, 31, 119, 248, 117, 68, 100, 8, 255, 115, 27, 49, 62, 128, 68, 110, 234, 176, 57, 61, 227, 207, 96, 0, 114, 160, 70, 234, 239, 78, 102, 20, 237, 22, 220, 35, 237, 222, 150, 143, 74, 172, 183, 223, 236, 229, 255, 231, 236, 239, 167, 200, 18, 123, 197, 155, 71, 252, 124, 92, 32, 30, 127, 109, 100, 102, 255, 118, 229, 10, 126, 66, 59, 45, 49, 112, 254, 241, 7, 136, 192, 185, 17, 90, 103, 239, 34, 128, 113, 242, 102, 187, 88, 27, 179, 180, 160, 233, 21, 19, 173, 140, 154, 105, 191, 190, 161, 240, 134, 51, 253, 1, 24, 9, 98, 0, 129, 245, 42, 155, 128, 96, 133, 99, 34, 94, 106, 198, 102, 123, 242, 242, 221, 234, 124, 239, 41, 184, 247, 45, 251, 96, 151, 35, 164, 183, 36, 170, 22, 94, 243, 171, 255, 255, 92, 223, 19, 28, 251, 197, 54, 118, 185, 83, 94, 237, 94, 2, 188, 62, 182, 100, 118, 63, 31, 137, 129, 152, 165, 203, 83, 45, 170, 128, 135, 226, 53, 109, 228, 47, 44, 33, 184, 15, 79, 49, 224, 252, 142, 200, 215, 37, 211, 51, 4, 228, 108, 125, 152, 83, 229, 12, 252, 161, 173, 244, 192, 161, 150, 97, 216, 17, 255, 197, 38, 90, 241, 0, 77, 236, 150, 170, 91, 188, 189, 102, 118, 212, 253, 107, 137, 241, 165, 192, 211, 123, 99, 151, 7, 173, 117, 125, 121, 1, 88, 169, 117, 29, 122, 112, 109, 65, 255, 13, 171, 11, 30, 80, 106, 128, 206, 236, 204, 171, 85, 213, 214, 249, 162, 85, 127, 138, 122, 2, 173, 93, 255, 87, 228, 127, 230, 244, 216, 226, 125, 222, 114, 189, 53, 175, 10, 110, 18, 111, 225, 244, 188, 170, 103, 59, 68, 48, 79, 251, 222, 248, 83, 160, 168, 179, 141, 108, 56, 131, 191, 127, 147, 27, 156, 158, 122, 75, 161, 135, 127, 149, 22, 73, 139, 209, 221, 16, 218, 255, 144, 72, 137, 66, 146, 157, 55, 122, 167, 143, 181, 103, 253, 24, 122, 16, 62, 153, 36, 1, 174, 51, 87, 83, 242, 169, 18, 255, 41, 218, 16, 66, 81, 8, 225, 139, 93, 161, 158, 99, 184, 14, 94, 185, 162, 248, 191, 77, 215, 83, 72, 18, 145, 68, 93, 126, 91, 193, 153, 4, 235, 217, 37, 212, 200, 163, 194, 19, 107, 50, 209, 133, 101, 60, 120, 19, 105, 225, 186, 76, 143, 26, 215, 190, 238, 133, 94, 172, 141, 50, 244, 192, 150, 248, 210, 6, 79, 196, 106, 197, 45, 151, 80, 177, 236, 153, 230, 251, 87, 31, 120, 246, 193, 104, 254, 132, 223, 2, 134, 45, 246, 58, 79, 151, 46, 95, 39, 236, 95, 236, 216, 133, 238, 129, 116, 243, 237, 57, 248, 3, 91, 49, 177, 26, 139, 58, 92, 127, 203, 131, 119, 17, 62, 122, 202, 209, 159, 216, 210, 127, 215, 204, 210, 134, 172, 79, 234, 191, 212, 123, 63, 207, 20, 231, 79, 159, 177, 44, 115, 72, 89, 238, 131, 7, 116, 222, 125, 170, 118, 71, 190, 1, 180, 253, 220, 216, 48, 83, 105, 79, 28, 87, 195, 121, 68, 64, 253, 70, 115, 77, 156, 36, 88, 152, 6, 238, 139, 178, 125, 47, 99, 237, 160, 16, 119, 171, 116, 240, 221, 29, 29, 188, 184, 238, 81, 51, 182, 236, 134, 28, 215, 119, 3, 123, 128, 247, 124, 56, 57, 73, 249, 30, 249, 167, 111, 80, 136, 96, 7, 115, 21, 217, 159, 177, 52, 14, 122, 216, 54, 89, 114, 71, 87, 115, 49, 88, 244, 73, 53, 126, 151, 208, 25, 41, 207, 239, 103, 68, 184, 179, 97, 147, 19, 31, 26, 228, 214, 6, 95, 119, 13, 142, 220, 6, 44, 187, 34, 68, 252, 255, 23, 173, 200, 155, 48, 206, 177, 222, 158, 162, 56, 88, 161, 175, 137, 200, 179, 154, 53, 213, 233, 196, 95, 93, 84, 22, 44, 142, 254, 236, 225, 10, 130, 93, 135, 56, 58, 241, 155, 28, 22, 106, 146, 13, 117, 124, 220, 172, 18, 54, 11, 69, 148, 233, 242, 150, 161, 27, 110, 250, 73, 147, 185, 209, 232, 163, 108, 71, 138, 74, 249, 195, 79, 63, 65, 96, 47, 2, 188, 70, 223, 117, 144, 46, 239, 58, 116, 182, 242, 210, 211, 97, 145, 11, 89, 108, 100, 174, 104, 244, 73, 12, 224, 171, 229, 20, 97, 249, 64, 160, 163, 118, 123, 68, 110, 125, 178, 126, 205, 206, 120, 238, 34, 204, 245, 35, 190, 249, 134, 98, 165, 55, 54, 234, 19, 24, 0, 170, 69, 251, 124, 221, 122, 75, 106, 205, 77, 9, 249, 80, 1, 164, 247, 143, 171, 141, 55, 22, 104, 180, 207, 200, 8, 43, 225, 200, 215, 185, 130, 59, 119, 142, 118, 234]])\n",
        "matrizPrueba = linea2.reshape(1,50,32)\n",
        "predicciones = model.predict(matrizPrueba)\n",
        "print(predicciones.shape)\n",
        "prediccion = []\n",
        "for elem in predicciones[0]:\n",
        "  prediccion.extend(elem)\n",
        "moda = stts.mode(prediccion)\n",
        "print(moda)\n",
        "print(elegido(moda))"
      ],
      "metadata": {
        "colab": {
          "base_uri": "https://localhost:8080/"
        },
        "id": "-iuywt4LBsoT",
        "outputId": "d8dd46f5-b8c8-42ee-b201-f5fc6bdbf273"
      },
      "execution_count": null,
      "outputs": [
        {
          "output_type": "stream",
          "name": "stdout",
          "text": [
            "1/1 [==============================] - 0s 204ms/step\n",
            "(1, 50, 2)\n",
            "0.0\n",
            "botella\n"
          ]
        }
      ]
    }
  ]
}