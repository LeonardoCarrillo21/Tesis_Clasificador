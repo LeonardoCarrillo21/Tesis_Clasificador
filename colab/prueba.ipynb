{
  "nbformat": 4,
  "nbformat_minor": 0,
  "metadata": {
    "colab": {
      "provenance": []
    },
    "kernelspec": {
      "name": "python3",
      "display_name": "Python 3"
    },
    "language_info": {
      "name": "python"
    }
  },
  "cells": [
    {
      "cell_type": "code",
      "source": [
        "import tensorflow as tf\n",
        "from tensorflow.keras.models import Sequential\n",
        "from tensorflow.keras.layers import Dense\n",
        "import numpy as np\n",
        "import csv\n",
        "from sklearn.preprocessing import LabelEncoder\n",
        "import statistics as stts"
      ],
      "metadata": {
        "id": "la3L9d-yydSC"
      },
      "execution_count": null,
      "outputs": []
    },
    {
      "cell_type": "code",
      "source": [
        "\n",
        "lector = csv.reader(open(\"baseMomentos.csv\",\"r\"))\n",
        "lectorTest = csv.reader(open(\"TestMomentos.csv\",\"r\"))\n",
        "base = np.array([[[float(dato) for dato in linea[:-1]]] for linea in lector])\n",
        "baseTest = np.array([[[float(dato) for dato in linea[:-1]]] for linea in lectorTest])"
      ],
      "metadata": {
        "id": "Rr9s5B36ydx3"
      },
      "execution_count": null,
      "outputs": []
    },
    {
      "cell_type": "code",
      "source": [
        "print(base.shape)"
      ],
      "metadata": {
        "colab": {
          "base_uri": "https://localhost:8080/"
        },
        "id": "2AyCS8x3yegf",
        "outputId": "f2a19b2f-0182-430f-b357-de7122f0effd"
      },
      "execution_count": null,
      "outputs": [
        {
          "output_type": "stream",
          "name": "stdout",
          "text": [
            "(853, 1, 3)\n"
          ]
        }
      ]
    },
    {
      "cell_type": "code",
      "execution_count": null,
      "metadata": {
        "colab": {
          "base_uri": "https://localhost:8080/"
        },
        "id": "wVw53jtAjgnT",
        "outputId": "43967c1e-deb1-4eea-cc37-523e841cc557"
      },
      "outputs": [
        {
          "output_type": "stream",
          "name": "stdout",
          "text": [
            "[[[9.52698019e-04 7.07158116e-10 2.95306659e-13]]\n",
            "\n",
            " [[9.04713114e-04 1.48740305e-11 1.35792330e-13]]\n",
            "\n",
            " [[9.85600339e-04 4.73575179e-10 5.11457536e-12]]\n",
            "\n",
            " ...\n",
            "\n",
            " [[1.44373262e-03 3.00629536e-08 4.04684258e-11]]\n",
            "\n",
            " [[8.64438214e-04 8.91814729e-10 4.65550620e-13]]\n",
            "\n",
            " [[1.03392428e-03 4.67129016e-09 7.02201808e-12]]]\n",
            "['botella', 'botella', 'botella', 'botella', 'botella', 'botella', 'botella', 'botella', 'botella', 'botella', 'botella', 'botella', 'botella', 'botella', 'botella', 'botella', 'botella', 'botella', 'botella', 'botella', 'botella', 'botella', 'botella', 'botella', 'botella', 'botella', 'botella', 'botella', 'botella', 'botella', 'botella', 'botella', 'botella', 'botella', 'botella', 'botella', 'botella', 'botella', 'botella', 'botella', 'botella', 'botella', 'botella', 'botella', 'botella', 'botella', 'botella', 'botella', 'botella', 'botella', 'botella', 'botella', 'botella', 'botella', 'botella', 'botella', 'botella', 'botella', 'botella', 'botella', 'botella', 'botella', 'botella', 'botella', 'botella', 'botella', 'botella', 'botella', 'botella', 'botella', 'botella', 'botella', 'botella', 'botella', 'botella', 'botella', 'botella', 'botella', 'botella', 'botella', 'botella', 'botella', 'botella', 'botella', 'botella', 'botella', 'botella', 'botella', 'botella', 'botella', 'botella', 'botella', 'botella', 'botella', 'botella', 'botella', 'botella', 'botella', 'botella', 'botella', 'botella', 'botella', 'botella', 'botella', 'botella', 'botella', 'botella', 'botella', 'botella', 'botella', 'botella', 'botella', 'botella', 'botella', 'botella', 'botella', 'botella', 'botella', 'botella', 'botella', 'botella', 'botella', 'botella', 'botella', 'botella', 'botella', 'botella', 'botella', 'botella', 'botella', 'botella', 'botella', 'botella', 'botella', 'botella', 'botella', 'botella', 'botella', 'botella', 'botella', 'botella', 'botella', 'botella', 'botella', 'botella', 'botella', 'botella', 'botella', 'botella', 'botella', 'botella', 'botella', 'botella', 'botella', 'botella', 'botella', 'botella', 'botella', 'botella', 'botella', 'botella', 'botella', 'botella', 'botella', 'botella', 'botella', 'botella', 'botella', 'botella', 'botella', 'botella', 'botella', 'botella', 'botella', 'botella', 'botella', 'botella', 'botella', 'botella', 'botella', 'botella', 'botella', 'botella', 'botella', 'botella', 'botella', 'botella', 'botella', 'botella', 'botella', 'botella', 'botella', 'botella', 'botella', 'botella', 'botella', 'botella', 'botella', 'botella', 'botella', 'botella', 'botella', 'botella', 'botella', 'botella', 'botella', 'botella', 'botella', 'botella', 'botella', 'botella', 'botella', 'botella', 'botella', 'botella', 'botella', 'botella', 'botella', 'botella', 'botella', 'botella', 'botella', 'botella', 'botella', 'botella', 'botella', 'botella', 'botella', 'botella', 'botella', 'botella', 'botella', 'botella', 'botella', 'botella', 'botella', 'botella', 'botella', 'botella', 'botella', 'botella', 'botella', 'botella', 'botella', 'botella', 'botella', 'botella', 'botella', 'botella', 'botella', 'botella', 'botella', 'botella', 'botella', 'botella', 'botella', 'botella', 'botella', 'botella', 'botella', 'botella', 'botella', 'botella', 'botella', 'botella', 'botella', 'botella', 'botella', 'botella', 'botella', 'botella', 'botella', 'botella', 'botella', 'botella', 'botella', 'botella', 'botella', 'botella', 'botella', 'botella', 'botella', 'botella', 'botella', 'botella', 'botella', 'botella', 'botella', 'botella', 'botella', 'botella', 'botella', 'botella', 'botella', 'botella', 'botella', 'botella', 'botella', 'botella', 'botella', 'botella', 'botella', 'botella', 'botella', 'botella', 'botella', 'botella', 'botella', 'botella', 'botella', 'botella', 'botella', 'botella', 'botella', 'botella', 'botella', 'botella', 'botella', 'botella', 'botella', 'botella', 'botella', 'botella', 'botella', 'botella', 'botella', 'botella', 'botella', 'botella', 'botella', 'botella', 'botella', 'botella', 'botella', 'botella', 'botella', 'botella', 'botella', 'botella', 'botella', 'botella', 'botella', 'botella', 'botella', 'botella', 'botella', 'botella', 'botella', 'botella', 'botella', 'botella', 'botella', 'botella', 'botella', 'botella', 'botella', 'botella', 'botella', 'botella', 'botella', 'botella', 'botella', 'botella', 'botella', 'botella', 'botella', 'botella', 'botella', 'botella', 'botella', 'botella', 'botella', 'botella', 'botella', 'botella', 'botella', 'botella', 'botella', 'botella', 'botella', 'botella', 'botella', 'botella', 'botella', 'botella', 'botella', 'botella', 'botella', 'botella', 'botella', 'botella', 'botella', 'botella', 'botella', 'botella', 'botella', 'botella', 'botella', 'botella', 'botella', 'botella', 'botella', 'botella', 'botella', 'botella', 'botella', 'botella', 'botella', 'botella', 'botella', 'botella', 'botella', 'botella', 'botella', 'botella', 'botella', 'botella', 'botella', 'botella', 'botella', 'botella', 'botella', 'botella', 'botella', 'botella', 'botella', 'botella', 'botella', 'botella', 'botella', 'botella', 'botella', 'botella', 'botella', 'botella', 'botella', 'botella', 'botella', 'botella', 'botella', 'botella', 'botella', 'botella', 'botella', 'botella', 'botella', 'botella', 'botella', 'botella', 'botella', 'botella', 'botella', 'botella', 'botella', 'botella', 'botella', 'botella', 'botella', 'botella', 'botella', 'botella', 'botella', 'botella', 'botella', 'botella', 'botella', 'botella', 'botella', 'botella', 'paper', 'paper', 'paper', 'paper', 'paper', 'paper', 'paper', 'paper', 'paper', 'paper', 'paper', 'paper', 'paper', 'paper', 'paper', 'paper', 'paper', 'paper', 'paper', 'paper', 'paper', 'paper', 'paper', 'paper', 'paper', 'paper', 'paper', 'paper', 'paper', 'paper', 'paper', 'paper', 'paper', 'paper', 'paper', 'paper', 'paper', 'paper', 'paper', 'paper', 'paper', 'paper', 'paper', 'paper', 'paper', 'paper', 'paper', 'paper', 'paper', 'paper', 'paper', 'paper', 'paper', 'paper', 'paper', 'paper', 'paper', 'paper', 'paper', 'paper', 'paper', 'paper', 'paper', 'paper', 'paper', 'paper', 'paper', 'paper', 'paper', 'paper', 'paper', 'paper', 'paper', 'paper', 'paper', 'paper', 'paper', 'paper', 'paper', 'paper', 'paper', 'paper', 'paper', 'paper', 'paper', 'paper', 'paper', 'paper', 'paper', 'paper', 'paper', 'paper', 'paper', 'paper', 'paper', 'paper', 'paper', 'paper', 'paper', 'paper', 'paper', 'paper', 'paper', 'paper', 'paper', 'paper', 'paper', 'paper', 'paper', 'paper', 'paper', 'paper', 'paper', 'paper', 'paper', 'paper', 'paper', 'paper', 'paper', 'paper', 'paper', 'paper', 'paper', 'paper', 'paper', 'paper', 'paper', 'paper', 'paper', 'paper', 'paper', 'paper', 'paper', 'paper', 'paper', 'paper', 'paper', 'paper', 'paper', 'paper', 'paper', 'paper', 'paper', 'paper', 'paper', 'paper', 'paper', 'paper', 'paper', 'paper', 'paper', 'paper', 'paper', 'paper', 'paper', 'paper', 'paper', 'paper', 'paper', 'paper', 'paper', 'paper', 'paper', 'paper', 'paper', 'paper', 'paper', 'paper', 'paper', 'paper', 'paper', 'paper', 'paper', 'paper', 'paper', 'paper', 'paper', 'paper', 'paper', 'paper', 'paper', 'paper', 'paper', 'paper', 'paper', 'paper', 'paper', 'paper', 'paper', 'paper', 'paper', 'paper', 'paper', 'paper', 'paper', 'paper', 'paper', 'paper', 'paper', 'paper', 'paper', 'paper', 'paper', 'paper', 'paper', 'paper', 'paper', 'paper', 'paper', 'paper', 'paper', 'paper', 'paper', 'paper', 'paper', 'paper', 'paper', 'paper', 'paper', 'paper', 'paper', 'paper', 'paper', 'paper', 'paper', 'paper', 'paper', 'paper', 'paper', 'paper', 'paper', 'paper', 'paper', 'paper', 'paper', 'paper', 'paper', 'paper', 'paper', 'paper', 'paper', 'paper', 'paper', 'paper', 'paper', 'paper', 'paper', 'paper', 'paper', 'paper', 'paper', 'paper', 'paper', 'paper', 'paper', 'paper', 'paper', 'paper', 'paper', 'paper', 'paper', 'paper', 'paper', 'paper', 'paper', 'paper', 'paper', 'paper', 'paper', 'paper', 'paper', 'paper', 'paper', 'paper', 'paper', 'paper', 'paper', 'paper', 'paper', 'paper', 'paper', 'paper', 'paper', 'paper', 'paper', 'paper', 'paper', 'paper', 'paper', 'paper', 'paper', 'paper', 'paper', 'paper', 'paper', 'paper', 'paper', 'paper', 'paper', 'paper', 'paper', 'paper', 'paper', 'paper', 'paper', 'paper', 'paper', 'paper', 'paper', 'paper', 'paper', 'paper', 'paper', 'paper', 'paper', 'paper', 'paper', 'paper', 'paper', 'paper', 'paper', 'paper', 'paper', 'paper', 'paper', 'paper', 'paper', 'paper', 'paper', 'paper', 'paper', 'paper', 'paper', 'paper', 'paper', 'paper', 'paper', 'paper', 'paper', 'paper', 'paper', 'paper', 'paper', 'paper', 'paper', 'paper', 'paper', 'paper', 'paper', 'paper', 'paper', 'paper', 'paper', 'paper', 'paper', 'paper', 'paper', 'paper', 'paper', 'paper', 'paper', 'paper', 'paper', 'paper', 'paper', 'paper', 'paper', 'paper', 'paper', 'paper', 'paper', 'paper', 'paper', 'paper', 'paper', 'paper', 'paper', 'paper', 'paper', 'paper', 'paper', 'paper', 'paper', 'paper']\n",
            "{'botella', 'paper'}\n"
          ]
        }
      ],
      "source": [
        "\n",
        "#obtener las etiquetas\n",
        "lector = csv.reader(open(\"baseMomentos.csv\",\"r\"))\n",
        "lectorTest = csv.reader(open(\"TestMomentos.csv\",\"r\"))\n",
        "etiquetas= [linea[-1] for linea in lector]\n",
        "etiquetasTest= [linea[-1] for linea in lectorTest]\n",
        "clases = set(etiquetas)\n",
        "\n",
        "print(base)\n",
        "print(etiquetas)\n",
        "print(clases)"
      ]
    },
    {
      "cell_type": "code",
      "source": [
        "label_encoder = LabelEncoder()\n",
        "\n",
        "# Ajustar el codificador a los datos de entrada y obtener las etiquetas codificadas\n",
        "etiquetas_codificadas = label_encoder.fit_transform(etiquetas)\n",
        "etiquetas_codificadasTest = label_encoder.fit_transform(etiquetasTest)\n",
        "# Convertir las etiquetas codificadas en un arreglo de números\n",
        "arreglo_numeros = np.array(etiquetas_codificadas)\n",
        "arreglo_numerosTest = np.array(etiquetas_codificadasTest)\n",
        "# print(arreglo_numeros)"
      ],
      "metadata": {
        "id": "DRJ4XPgiwURJ"
      },
      "execution_count": null,
      "outputs": []
    },
    {
      "cell_type": "code",
      "source": [
        "\n",
        "modelo = Sequential()\n",
        "modelo.add(tf.keras.Input(shape=(1,3)))\n",
        "modelo.add(Dense(32,activation='relu'))\n",
        "modelo.add(Dense(32,activation='relu'))\n",
        "modelo.add(Dense(2,activation='softmax'))\n",
        "\n",
        "modelo.compile(loss='sparse_categorical_crossentropy',optimizer='adam',metrics=['accuracy'])\n"
      ],
      "metadata": {
        "id": "9kvh97K7xr_a"
      },
      "execution_count": null,
      "outputs": []
    },
    {
      "cell_type": "code",
      "source": [
        "# Resumen del modelo\n",
        "modelo.summary()"
      ],
      "metadata": {
        "colab": {
          "base_uri": "https://localhost:8080/"
        },
        "id": "tFEN32pPxwMn",
        "outputId": "5196e1d0-2be2-4513-f240-2f6bf38d4ce7"
      },
      "execution_count": null,
      "outputs": [
        {
          "output_type": "stream",
          "name": "stdout",
          "text": [
            "Model: \"sequential_6\"\n",
            "_________________________________________________________________\n",
            " Layer (type)                Output Shape              Param #   \n",
            "=================================================================\n",
            " dense_18 (Dense)            (None, 1, 32)             128       \n",
            "                                                                 \n",
            " dense_19 (Dense)            (None, 1, 32)             1056      \n",
            "                                                                 \n",
            " dense_20 (Dense)            (None, 1, 2)              66        \n",
            "                                                                 \n",
            "=================================================================\n",
            "Total params: 1,250\n",
            "Trainable params: 1,250\n",
            "Non-trainable params: 0\n",
            "_________________________________________________________________\n"
          ]
        }
      ]
    },
    {
      "cell_type": "code",
      "source": [
        "\n",
        "modelo.fit(base,arreglo_numeros,batch_size=4,epochs=10,verbose=1)\n"
      ],
      "metadata": {
        "colab": {
          "base_uri": "https://localhost:8080/"
        },
        "id": "LdttxK2tx1Y-",
        "outputId": "60ab0ff8-eaad-4cbb-ca04-edbe095482dd"
      },
      "execution_count": null,
      "outputs": [
        {
          "output_type": "stream",
          "name": "stdout",
          "text": [
            "Epoch 1/10\n",
            "214/214 [==============================] - 1s 2ms/step - loss: 0.6900 - accuracy: 0.5494\n",
            "Epoch 2/10\n",
            "214/214 [==============================] - 0s 2ms/step - loss: 0.6885 - accuracy: 0.5494\n",
            "Epoch 3/10\n",
            "214/214 [==============================] - 0s 2ms/step - loss: 0.6891 - accuracy: 0.5503\n",
            "Epoch 4/10\n",
            "214/214 [==============================] - 0s 2ms/step - loss: 0.6889 - accuracy: 0.5503\n",
            "Epoch 5/10\n",
            "214/214 [==============================] - 0s 2ms/step - loss: 0.6894 - accuracy: 0.5503\n",
            "Epoch 6/10\n",
            "214/214 [==============================] - 0s 2ms/step - loss: 0.6892 - accuracy: 0.5494\n",
            "Epoch 7/10\n",
            "214/214 [==============================] - 0s 2ms/step - loss: 0.6890 - accuracy: 0.5494\n",
            "Epoch 8/10\n",
            "214/214 [==============================] - 1s 3ms/step - loss: 0.6887 - accuracy: 0.5503\n",
            "Epoch 9/10\n",
            "214/214 [==============================] - 1s 3ms/step - loss: 0.6886 - accuracy: 0.5503\n",
            "Epoch 10/10\n",
            "214/214 [==============================] - 0s 2ms/step - loss: 0.6890 - accuracy: 0.5494\n"
          ]
        },
        {
          "output_type": "execute_result",
          "data": {
            "text/plain": [
              "<keras.callbacks.History at 0x7f0e605fb520>"
            ]
          },
          "metadata": {},
          "execution_count": 79
        }
      ]
    },
    {
      "cell_type": "code",
      "source": [
        "def clases(arreglo):\n",
        "    if np.argmax(arreglo)==0:\n",
        "      print(\"botella\")\n",
        "    if np.argmax(arreglo)==1:\n",
        "      print(\"no botella\")"
      ],
      "metadata": {
        "id": "6l-mqtkm0LgO"
      },
      "execution_count": null,
      "outputs": []
    },
    {
      "cell_type": "code",
      "source": [
        "\n",
        "score = modelo.evaluate(baseTest,arreglo_numerosTest,verbose=1)\n",
        "print('perdida en prueba: ', score[0])\n",
        "print('precision en prueba: ', score[1])\n"
      ],
      "metadata": {
        "id": "CfJwUgsJoBjj",
        "colab": {
          "base_uri": "https://localhost:8080/"
        },
        "outputId": "0c03be67-365e-4aa2-e5dc-2de8c352c391"
      },
      "execution_count": null,
      "outputs": [
        {
          "output_type": "stream",
          "name": "stdout",
          "text": [
            "1/1 [==============================] - 0s 215ms/step - loss: 0.7053 - accuracy: 0.4762\n",
            "perdida en prueba:  0.7053112983703613\n",
            "precision en prueba:  0.4761904776096344\n"
          ]
        }
      ]
    },
    {
      "cell_type": "code",
      "source": [
        "entrada_test = [[[0.0008950785159353671,3.327421725324484e-11,1.5224188482300927e-13]]]\n",
        "prediccion = modelo.predict(entrada_test)\n",
        "porcentajeParecido = prediccion[0][0]\n",
        "clases(prediccion[0])"
      ],
      "metadata": {
        "colab": {
          "base_uri": "https://localhost:8080/"
        },
        "id": "oofqrQRl0f0m",
        "outputId": "e4042734-e700-480f-fb7c-d2ed7c96995a"
      },
      "execution_count": null,
      "outputs": [
        {
          "output_type": "stream",
          "name": "stdout",
          "text": [
            "1/1 [==============================] - 0s 159ms/step\n",
            "botella\n"
          ]
        }
      ]
    },
    {
      "cell_type": "code",
      "source": [
        "entrada = [[[0.0012545370989574022,4.334490903497911e-09,2.8873958144269634e-11]]]\n",
        "prediccion = modelo.predict(entrada)\n",
        "porcentajeParecido = prediccion[0][0]\n",
        "print(f'porcentaje de botella: {porcentajeParecido}')\n",
        "clases(prediccion[0])"
      ],
      "metadata": {
        "colab": {
          "base_uri": "https://localhost:8080/"
        },
        "id": "Mzcnc9DK3KmN",
        "outputId": "15a88dc0-7bdb-41d1-f8f2-e5596f4591a1"
      },
      "execution_count": null,
      "outputs": [
        {
          "output_type": "stream",
          "name": "stdout",
          "text": [
            "1/1 [==============================] - 0s 43ms/step\n",
            "porcentaje de botella: [0.55750996 0.4424901 ]\n",
            "botella\n"
          ]
        }
      ]
    },
    {
      "cell_type": "code",
      "source": [
        "modelo.save(\"modelo.h5\")\n",
        "\n",
        "# Guardar solo los pesos del modelo\n",
        "modelo.save_weights(\"pesos.h5\")"
      ],
      "metadata": {
        "id": "8c2m0-mzBZqG"
      },
      "execution_count": null,
      "outputs": []
    }
  ]
}